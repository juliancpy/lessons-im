{
 "cells": [
  {
   "cell_type": "markdown",
   "metadata": {},
   "source": [
    "# <center>Week 1</center>\n",
    "# <center>Exercises - Lesson 1</center>"
   ]
  },
  {
   "cell_type": "markdown",
   "metadata": {},
   "source": [
    "## 1. Lists\n",
    "\n",
    "* Find the max and min of the list with the functions max() and min()\n",
    "\n",
    "the_list=[99,62,41,90,59,2,54,79,35,2,98,80,49,5,42,84,5,86,45,46,39,26,23,58,30,44,57,28,61,66]\n",
    "\n",
    "* Check how many numbers in the list are greater than 57 and print them\n",
    "\n",
    "* From the following list, create a new list with only names that finish in a vowel\n",
    "\n",
    "names=['Roshni','Alice', 'Robert','Neil','Svetlana','Beverley','Pete','Julian','Vanessa','Manjula','Claire','Rosi','Alessandro', 'John','Leah','Richard','Claire','Michal','Matt']"
   ]
  },
  {
   "cell_type": "markdown",
   "metadata": {},
   "source": [
    "## 2. Odd or Even Number\n",
    "\n",
    "\n",
    "Given a list check that each number and print if they are an even \n",
    "or odd number and print them in different list.\n",
    "\n",
    "the_list=[99,62,41,90,59,2,54,79,35,2,98,80,49,5,42,84,5,86,45,46,39,26,23,58,30,44,57,28,61,66]\n"
   ]
  },
  {
   "cell_type": "markdown",
   "metadata": {},
   "source": [
    "## 3. Weird or Not Weird\n",
    "\n",
    "Given a list, perform the following conditional actions:\n",
    "\n",
    "#### Actions    \n",
    "* If n is odd, print Weird\n",
    "* If n is even and in the inclusive range of 2 to 5, print Not Weird\n",
    "* If n is even and in the inclusive range of 6 to 20, print Weird\n",
    "* If n is even and greater than 20, print Not Weird\n",
    "\n",
    "Print Weird if the number is weird: otherwise, print Not Weird.\n",
    "\n",
    "numbers=[42, 52, 5, 93, 4, 23, 13, 6, 69, 85, 16, 1, 39, 96, 47, 9, 45, 72]"
   ]
  },
  {
   "cell_type": "markdown",
   "metadata": {},
   "source": [
    "## 4. Challenge\n",
    "\n",
    "Find the Maximum or the Minimun without using the python function"
   ]
  },
  {
   "cell_type": "code",
   "execution_count": null,
   "metadata": {},
   "outputs": [],
   "source": []
  },
  {
   "cell_type": "code",
   "execution_count": null,
   "metadata": {},
   "outputs": [],
   "source": []
  },
  {
   "cell_type": "code",
   "execution_count": null,
   "metadata": {},
   "outputs": [],
   "source": []
  },
  {
   "cell_type": "code",
   "execution_count": null,
   "metadata": {},
   "outputs": [],
   "source": []
  }
 ],
 "metadata": {
  "kernelspec": {
   "display_name": "Python 3",
   "language": "python",
   "name": "python3"
  },
  "language_info": {
   "codemirror_mode": {
    "name": "ipython",
    "version": 3
   },
   "file_extension": ".py",
   "mimetype": "text/x-python",
   "name": "python",
   "nbconvert_exporter": "python",
   "pygments_lexer": "ipython3",
   "version": "3.6.5"
  }
 },
 "nbformat": 4,
 "nbformat_minor": 2
}
