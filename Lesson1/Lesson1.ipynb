{
 "cells": [
  {
   "cell_type": "markdown",
   "metadata": {},
   "source": [
    "![alt text](https://www.ipsos.com/sites/default/files/2018-10/logo-IpsosMORI.png \"Logo Text Ipsos\")"
   ]
  },
  {
   "cell_type": "markdown",
   "metadata": {},
   "source": [
    "## Introduction to Python\n",
    "\n",
    "In this lesson we will be doing a quick overview of Python. \n",
    "[You can find some references on this link](https://docs.python.org/2/tutorial/)\n"
   ]
  },
  {
   "cell_type": "markdown",
   "metadata": {},
   "source": [
    "### Jupyter Notebook\n",
    "You can see a small overview [here](https://jupyter.readthedocs.io/en/latest/running.html)"
   ]
  },
  {
   "cell_type": "code",
   "execution_count": null,
   "metadata": {
    "collapsed": true
   },
   "outputs": [],
   "source": [
    "1+1\n",
    "#Pressing shift+return will run this cell, the output will be displayed below\n",
    "#Pressing alt+return will run this cell and also create a new empty one"
   ]
  },
  {
   "cell_type": "code",
   "execution_count": null,
   "metadata": {
    "collapsed": true
   },
   "outputs": [],
   "source": [
    "#Single line comments in Python can be specified with a hashtag\n",
    "\n",
    "\"\"\"\n",
    "Multi-line comments can be written by enclosing them in \n",
    "three sets of speech marks.\n",
    "\"\"\""
   ]
  },
  {
   "cell_type": "code",
   "execution_count": null,
   "metadata": {
    "collapsed": true
   },
   "outputs": [],
   "source": [
    "help()"
   ]
  },
  {
   "cell_type": "markdown",
   "metadata": {},
   "source": [
    "## Variables and assignments"
   ]
  },
  {
   "cell_type": "markdown",
   "metadata": {},
   "source": [
    "Based on the data type of a variable, the interpreter automatically allocates memory and decides what can be stored. Therefore there is no need to declare variables before using them, by assigning different data types to variables, you can store integers, decimals or characters on the go."
   ]
  },
  {
   "cell_type": "code",
   "execution_count": null,
   "metadata": {
    "collapsed": true
   },
   "outputs": [],
   "source": [
    "counter = 100          # An integer assignment\n",
    "miles   = 1000.0       # A floating point\n",
    "name    = \"John\"       # A string\n",
    "\n",
    "print (counter)\n",
    "print (miles)\n",
    "print (name)"
   ]
  },
  {
   "cell_type": "markdown",
   "metadata": {},
   "source": [
    "Note how there is also no need to declare the end of a line/statement in Python. Pressing return will indicate a new line to be run, and the level of indentation will determine the context under which this new line is interpreted."
   ]
  },
  {
   "cell_type": "markdown",
   "metadata": {},
   "source": [
    "### Multiple Assignment"
   ]
  },
  {
   "cell_type": "code",
   "execution_count": null,
   "metadata": {
    "collapsed": true
   },
   "outputs": [],
   "source": [
    "a = b = c = 1"
   ]
  },
  {
   "cell_type": "code",
   "execution_count": null,
   "metadata": {
    "collapsed": true
   },
   "outputs": [],
   "source": [
    "a,b,c = 1,2,\"john\""
   ]
  },
  {
   "cell_type": "markdown",
   "metadata": {},
   "source": [
    "#### Arithmetic Operators"
   ]
  },
  {
   "cell_type": "code",
   "execution_count": null,
   "metadata": {
    "collapsed": true
   },
   "outputs": [],
   "source": [
    "a + b # = 30  --> Adds\n",
    "a - b # = -10 --> Subtracts\n",
    "a * b # = 200 --> Multiplies\n",
    "b / a # = 2   --> Divides\n",
    "b % a # = 0   --> Modulus\n",
    "a**b  # = 10to the power20 --> Exponent\n",
    "9//2  # = 4   --> floor division"
   ]
  },
  {
   "cell_type": "markdown",
   "metadata": {},
   "source": [
    "#### Comparison Operators"
   ]
  },
  {
   "cell_type": "code",
   "execution_count": null,
   "metadata": {
    "collapsed": true
   },
   "outputs": [],
   "source": [
    "(a == b) # equal operator --> is not true.\n",
    "(a != b) # not equal operator --> is true.\n",
    "(a <> b) # not equal operator --> is true.\n",
    "(a > b)  # greater than operator --> is not true.\n",
    "(a < b)  # less than operator --> is true.\n",
    "(a >= b) # greater than or equal operator --> is not true.\n",
    "(a <= b) # less than or equal operator --> is true."
   ]
  },
  {
   "cell_type": "markdown",
   "metadata": {},
   "source": [
    "### Assignment Operators\n",
    "Assigns values from right side operands to left side operand"
   ]
  },
  {
   "cell_type": "code",
   "execution_count": null,
   "metadata": {
    "collapsed": true
   },
   "outputs": [],
   "source": [
    "c = a + b # assigns value of a + b into c\n",
    "c += a    # Add AND       equivalent to c = c + a\n",
    "c -= b    # Subtracs AND  equivalent to c = c - a\n",
    "c *= a    # Multiply AND  equivalent to c = c * a\n",
    "c /= a    # Divide AND  equivalent to c = c / a\n",
    "c %= a    # Modulus AND  equivalent to c = c % a\n",
    "c **= a    # Exponent AND  equivalent to c = c ** a\n",
    "c //= a    # Floor AND  equivalent to c = c // a"
   ]
  },
  {
   "cell_type": "markdown",
   "metadata": {},
   "source": [
    "##### Python has five standard data types −\n",
    "\n",
    "- Numbers\n",
    "- String\n",
    "- List*\n",
    "- Tuple*\n",
    "- Dictionary*\n",
    "\n",
    "*we'll talk more about these next time"
   ]
  },
  {
   "cell_type": "markdown",
   "metadata": {},
   "source": [
    "##### Python Numbers\n",
    "Number data types store numeric values. Number objects are created when you assign a value to them. For example −"
   ]
  },
  {
   "cell_type": "code",
   "execution_count": null,
   "metadata": {
    "collapsed": true
   },
   "outputs": [],
   "source": [
    "var1 = 1450\n",
    "var2 = 1.02"
   ]
  },
  {
   "cell_type": "markdown",
   "metadata": {},
   "source": [
    "##### Python supports four different numerical types −\n",
    "\n",
    "- int (signed integers)\n",
    "- long (long integers, they can also be represented in octal and hexadecimal)\n",
    "- float (floating point real values)\n",
    "- complex (complex numbers)\n",
    "\n",
    "Be careful that you use the correct type as required by your calculation"
   ]
  },
  {
   "cell_type": "code",
   "execution_count": null,
   "metadata": {
    "collapsed": true
   },
   "outputs": [],
   "source": [
    "a = 1\n",
    "b = 2\n",
    "print (a/b) #prints zero because both are integers"
   ]
  },
  {
   "cell_type": "code",
   "execution_count": null,
   "metadata": {
    "collapsed": true
   },
   "outputs": [],
   "source": [
    "a = 1.0\n",
    "print (a/b) #now prints 0.5"
   ]
  },
  {
   "cell_type": "markdown",
   "metadata": {},
   "source": [
    "#### Python Strings\n",
    "Python allows for either pairs of single or double quotes. Be careful if you wish to include quotes as part of a string. "
   ]
  },
  {
   "cell_type": "code",
   "execution_count": null,
   "metadata": {
    "collapsed": true
   },
   "outputs": [],
   "source": [
    "c = 'This is a string'\n",
    "d = \"This is also a string\"\n",
    "\n",
    "print (c)\n",
    "print (d)"
   ]
  },
  {
   "cell_type": "code",
   "execution_count": null,
   "metadata": {
    "collapsed": true
   },
   "outputs": [],
   "source": [
    "#This line will not run - use single quotes to enclose the double quotes or vice-versa\n",
    "\"Python is \"fun\"\""
   ]
  },
  {
   "cell_type": "code",
   "execution_count": null,
   "metadata": {
    "collapsed": true
   },
   "outputs": [],
   "source": [
    "'Python is \"fun\"'"
   ]
  },
  {
   "cell_type": "markdown",
   "metadata": {},
   "source": [
    "### Data Type Conversion\n"
   ]
  },
  {
   "cell_type": "code",
   "execution_count": null,
   "metadata": {
    "collapsed": true
   },
   "outputs": [],
   "source": [
    "type(5)"
   ]
  },
  {
   "cell_type": "code",
   "execution_count": null,
   "metadata": {
    "collapsed": true
   },
   "outputs": [],
   "source": [
    "str(5)"
   ]
  },
  {
   "cell_type": "code",
   "execution_count": null,
   "metadata": {
    "collapsed": true
   },
   "outputs": [],
   "source": [
    "myString = '5'\n",
    "type(int(myString))"
   ]
  },
  {
   "cell_type": "code",
   "execution_count": null,
   "metadata": {
    "collapsed": true
   },
   "outputs": [],
   "source": [
    "myString = '50003'\n",
    "type(long(myString))"
   ]
  },
  {
   "cell_type": "markdown",
   "metadata": {},
   "source": [
    "#### Let's see an example"
   ]
  },
  {
   "cell_type": "code",
   "execution_count": null,
   "metadata": {
    "collapsed": true
   },
   "outputs": [],
   "source": [
    "price_cake = 15\n",
    "price_cookie = 6\n",
    "total = price_cake + price_cookie\n",
    "print(\"The total is: £\" + str(total))"
   ]
  },
  {
   "cell_type": "markdown",
   "metadata": {},
   "source": [
    "###### More about data type conversion [Here](https://www.datacamp.com/community/tutorials/python-data-type-conversion)"
   ]
  },
  {
   "cell_type": "markdown",
   "metadata": {},
   "source": [
    "#### Python Lists\n",
    "A list is an ordered collection items separated by commas and enclosed within square brackets [].\n"
   ]
  },
  {
   "cell_type": "code",
   "execution_count": null,
   "metadata": {
    "collapsed": true
   },
   "outputs": [],
   "source": [
    "my_list = [1,2,3.0,'Ipsos'] # the items do not have to be of the same type"
   ]
  },
  {
   "cell_type": "code",
   "execution_count": null,
   "metadata": {
    "collapsed": true
   },
   "outputs": [],
   "source": [
    "mylist = [] # this is an empty list\n",
    "mylist.append(1)\n",
    "mylist.append(2)\n",
    "mylist += [3,4] # lists can also be concatinated simply using the + operator\n",
    "\n",
    "print (mylist) # prints [1,2,3,4]"
   ]
  },
  {
   "cell_type": "code",
   "execution_count": null,
   "metadata": {
    "collapsed": true
   },
   "outputs": [],
   "source": [
    "#Lists are indexed from 0 for the first item in ascending order\n",
    "print(mylist[0]) # prints 1\n",
    "print(mylist[1]) # prints 2\n",
    "print(mylist[2]) # prints 3\n",
    "\n",
    "#Or from -1 from the last item working backwards\n",
    "print(mylist[-1]) # prints 4\n",
    "print(mylist[-2]) # prints 3"
   ]
  },
  {
   "cell_type": "code",
   "execution_count": null,
   "metadata": {
    "collapsed": true
   },
   "outputs": [],
   "source": [
    "mylist.insert(2,2.5) # inserts the new value (2.5) at the specified index (2)"
   ]
  },
  {
   "cell_type": "markdown",
   "metadata": {},
   "source": [
    "Strings can be also be thought of as lists, they're lists of characters and so can be indexed or sliced in exactly the same way"
   ]
  },
  {
   "cell_type": "code",
   "execution_count": null,
   "metadata": {
    "collapsed": true
   },
   "outputs": [],
   "source": [
    "myString = \"Hello Ipsos Mori!\"\n",
    "\n",
    "print myString          # Prints complete string\n",
    "print myString[0]       # Prints first character of the string\n",
    "print myString[2:5]     # Prints characters starting from 3rd to 5th\n",
    "print myString[2:]      # Prints string starting from 3rd character\n",
    "print myString * 2      # Prints string two times\n",
    "print myString + \"TEST\" # Prints concatenated string"
   ]
  },
  {
   "cell_type": "markdown",
   "metadata": {},
   "source": [
    "### Logical Operators\n"
   ]
  },
  {
   "cell_type": "code",
   "execution_count": null,
   "metadata": {
    "collapsed": true
   },
   "outputs": [],
   "source": [
    "a=True\n",
    "b=False"
   ]
  },
  {
   "cell_type": "code",
   "execution_count": null,
   "metadata": {
    "collapsed": true
   },
   "outputs": [],
   "source": [
    "(a and b) # False"
   ]
  },
  {
   "cell_type": "code",
   "execution_count": null,
   "metadata": {
    "collapsed": true
   },
   "outputs": [],
   "source": [
    "(a or b) # True"
   ]
  },
  {
   "cell_type": "code",
   "execution_count": null,
   "metadata": {
    "collapsed": true
   },
   "outputs": [],
   "source": [
    "not(a and b) # True"
   ]
  },
  {
   "cell_type": "code",
   "execution_count": null,
   "metadata": {
    "collapsed": true
   },
   "outputs": [],
   "source": [
    "9 in mylist # False"
   ]
  },
  {
   "cell_type": "code",
   "execution_count": null,
   "metadata": {
    "collapsed": true
   },
   "outputs": [],
   "source": [
    "'Hello' in myString # True"
   ]
  },
  {
   "cell_type": "markdown",
   "metadata": {},
   "source": [
    "# if,elif,else Statements"
   ]
  },
  {
   "cell_type": "markdown",
   "metadata": {},
   "source": [
    "if Statements in Python allows us to tell the computer to perform alternative actions based on a certain set of results.\n",
    "Let's go ahead and look at the syntax format for if statements to get a better idea of this:\n",
    "\n",
    "    if case1:\n",
    "        perform action1\n",
    "    elif case2:\n",
    "        perform action2\n",
    "    else: \n",
    "        perform action 3"
   ]
  },
  {
   "cell_type": "markdown",
   "metadata": {},
   "source": [
    "### Indentation\n",
    "\n",
    "It is important to keep a good understanding of how indentation works in Python to maintain the structure and order of your code. "
   ]
  },
  {
   "cell_type": "code",
   "execution_count": null,
   "metadata": {
    "collapsed": true
   },
   "outputs": [],
   "source": [
    "if True:\n",
    "    print('It was true!')"
   ]
  },
  {
   "cell_type": "code",
   "execution_count": null,
   "metadata": {
    "collapsed": true
   },
   "outputs": [],
   "source": [
    "x = False\n",
    "if x:\n",
    "    print 'x was True!'\n",
    "else:\n",
    "    print 'I will be printed in any case where x is not true'"
   ]
  },
  {
   "cell_type": "code",
   "execution_count": null,
   "metadata": {
    "collapsed": true
   },
   "outputs": [],
   "source": [
    "person = 'George'\n",
    "\n",
    "if person == 'Sammy':\n",
    "    print 'Welcome Sammy!'\n",
    "elif person =='George':\n",
    "    print \"Welcome George!\"\n",
    "else:\n",
    "    print \"Welcome, what's your name?\" "
   ]
  },
  {
   "cell_type": "markdown",
   "metadata": {},
   "source": [
    "# Loops/Iterations"
   ]
  },
  {
   "cell_type": "markdown",
   "metadata": {},
   "source": [
    "### while loops\n",
    "A **while** statement will repeatedly execute a single statement or group of statements as long as the condition is true.\n",
    "\n",
    "The general format of a while loop is:\n",
    "\n",
    "    while test:\n",
    "        code statement\n",
    "    else:\n",
    "        final code statements\n",
    "\n",
    "Let’s look at a few simple while loops in action. "
   ]
  },
  {
   "cell_type": "code",
   "execution_count": null,
   "metadata": {
    "collapsed": true
   },
   "outputs": [],
   "source": [
    "x = 0\n",
    "while x < 10:\n",
    "    print 'x is currently: ',x\n",
    "    print ' x is still less than 10, adding 1 to x'\n",
    "    x+=1"
   ]
  },
  {
   "cell_type": "code",
   "execution_count": null,
   "metadata": {
    "collapsed": true
   },
   "outputs": [],
   "source": [
    "x = 0\n",
    "while x < 10:\n",
    "    print 'x is currently: ',x\n",
    "    print ' x is still less than 10, adding 1 to x'\n",
    "    x+=1    \n",
    "print 'All Done!'"
   ]
  },
  {
   "cell_type": "code",
   "execution_count": null,
   "metadata": {
    "collapsed": true
   },
   "outputs": [],
   "source": [
    "x = 0\n",
    "\n",
    "while x < 10:\n",
    "    print 'x is currently: ',x\n",
    "    print ' x is still less than 10, adding 1 to x'\n",
    "    x+=1\n",
    "    if x ==3:\n",
    "        print 'Breaking because x==3'\n",
    "        break\n",
    "    else:\n",
    "        print 'continuing...'\n",
    "        continue"
   ]
  },
  {
   "cell_type": "markdown",
   "metadata": {},
   "source": [
    "## For Loops\n",
    "\n",
    "A **for** loop acts as an iterator in Python, it goes through items that are in a *sequence* or any other iterable item.\n",
    "\n",
    "Here's the general format for a **for** loop in Python:\n",
    "\n",
    "    for item in object:\n",
    "        statements to do stuff"
   ]
  },
  {
   "cell_type": "code",
   "execution_count": null,
   "metadata": {
    "collapsed": true
   },
   "outputs": [],
   "source": [
    "mylist = [1,2,3,4,5,6,7,8,9,10]"
   ]
  },
  {
   "cell_type": "code",
   "execution_count": null,
   "metadata": {
    "collapsed": true
   },
   "outputs": [],
   "source": [
    "for item in mylist:\n",
    "    print item"
   ]
  },
  {
   "cell_type": "code",
   "execution_count": null,
   "metadata": {
    "collapsed": true
   },
   "outputs": [],
   "source": [
    "for num in mylist:\n",
    "    if num % 2 == 0:\n",
    "        print num"
   ]
  },
  {
   "cell_type": "code",
   "execution_count": null,
   "metadata": {
    "collapsed": true
   },
   "outputs": [],
   "source": [
    "# another example\n",
    "sentence = 'This is a string.'\n",
    "for letter in sentence:\n",
    "    print letter"
   ]
  },
  {
   "cell_type": "markdown",
   "metadata": {
    "collapsed": true
   },
   "source": [
    "Range is a useful function when using for loops as it will automatically create a numerical list for you. One argument will create a list from zero up to but not including that number, two arguments will create a list between those values, a third argument can be used to specify the increment."
   ]
  },
  {
   "cell_type": "code",
   "execution_count": null,
   "metadata": {
    "collapsed": true
   },
   "outputs": [],
   "source": [
    "range(6) # [0,1,2,3,4,5]"
   ]
  },
  {
   "cell_type": "code",
   "execution_count": null,
   "metadata": {
    "collapsed": true
   },
   "outputs": [],
   "source": [
    "range(1,5) # [1,2,3,4]"
   ]
  },
  {
   "cell_type": "code",
   "execution_count": null,
   "metadata": {
    "collapsed": true
   },
   "outputs": [],
   "source": [
    "range(8,2,-1) # [8,7,6,5,4,3]"
   ]
  },
  {
   "cell_type": "markdown",
   "metadata": {},
   "source": [
    "#### References\n",
    "- [Tutorials Point](https://www.tutorialspoint.com)\n",
    "- [Learn to Code for Data Analysis](https://www.futurelearn.com/courses/learn-to-code)\n",
    "- [Learn Python](https://www.learnpython.org/)"
   ]
  },
  {
   "cell_type": "code",
   "execution_count": null,
   "metadata": {
    "collapsed": true
   },
   "outputs": [],
   "source": []
  }
 ],
 "metadata": {
  "kernelspec": {
   "display_name": "Python 2",
   "language": "python",
   "name": "python2"
  },
  "language_info": {
   "codemirror_mode": {
    "name": "ipython",
    "version": 2
   },
   "file_extension": ".py",
   "mimetype": "text/x-python",
   "name": "python",
   "nbconvert_exporter": "python",
   "pygments_lexer": "ipython2",
   "version": "2.7.13"
  }
 },
 "nbformat": 4,
 "nbformat_minor": 2
}
