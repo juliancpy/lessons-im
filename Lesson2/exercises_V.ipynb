{
 "cells": [
  {
   "cell_type": "markdown",
   "metadata": {},
   "source": [
    "# <center>Week 2</center>\n",
    "# <center>Exercises - Lesson 2</center>"
   ]
  },
  {
   "cell_type": "markdown",
   "metadata": {},
   "source": [
    "## 1. Dictionaries and functions\n",
    "\n",
    "dictionanry={'Roshni': 99, 'Alice': 62, 'Robert': 41, 'Neil': 90,'Frank':30,\n",
    " 'Svetlana': 59, 'Beverley': 2, 'Pete': 54, 'Julian': 79,\n",
    " 'Vanessa': 35, 'Manjula': 2, 'Claire': 98, 'Rosi': 80,\n",
    " 'Alessandro': 49, 'John': 5, 'Leah': 42, 'Richard': 84,\n",
    " 'Anne': 5, 'Michal': 86, 'Matt': 45}\n",
    "\n",
    "* Create a function which returns \"Weird\" or \"Not Weird\" (Exercise from lesson 1) for the number each person has selected. Based on the selection, separate them into two groups. Create a new dictionary where those who chose Weird numbers will be in group 1, and the rest in group 2."
   ]
  },
  {
   "cell_type": "markdown",
   "metadata": {},
   "source": [
    "## 2. Shopping list\n",
    "\n",
    "\n",
    "Create a program that will keep track of items for a shopping list. The program should keep asking for new items until nothing is entered (no input followed by enter/return key). The program should then display the full shopping list."
   ]
  },
  {
   "cell_type": "markdown",
   "metadata": {},
   "source": [
    "## 3. Create a function that reads the text below, separate the text into words, and prints on screen how may words the text has, how many words end in vowel, how many in consonant and prints the counts for each word in the text. Sort them alphabetically.\n",
    "\n",
    "Text:\n",
    "\n",
    "\"At Ipsos we are passionately curious about people, markets, brands and society. We deliver information and analysis that makes our complex world easier and faster to navigate and inspires our clients to make smarter decisions.\n",
    "\n",
    "We believe that our work is important. Security, Simplicity, Speed and Substance applies to everything we do.\n",
    "\n",
    "Through specialisation, we offer our clients a unique depth of knowledge and expertise. Learning from different experiences gives us perspective and inspires us to boldly call things into question, to be creative.\n",
    "\n",
    "By nurturing a culture of collaboration and curiosity, we attract the highest calibre of people who have the ability and desire to influence and shape the future.\n",
    "\n",
    "“Game Changers” – our tagline – summarises our ambition.\""
   ]
  },
  {
   "cell_type": "code",
   "execution_count": null,
   "metadata": {},
   "outputs": [],
   "source": []
  },
  {
   "cell_type": "code",
   "execution_count": null,
   "metadata": {},
   "outputs": [],
   "source": []
  },
  {
   "cell_type": "code",
   "execution_count": null,
   "metadata": {},
   "outputs": [],
   "source": []
  },
  {
   "cell_type": "code",
   "execution_count": null,
   "metadata": {},
   "outputs": [],
   "source": []
  }
 ],
 "metadata": {
  "kernelspec": {
   "display_name": "Python 3",
   "language": "python",
   "name": "python3"
  },
  "language_info": {
   "codemirror_mode": {
    "name": "ipython",
    "version": 3
   },
   "file_extension": ".py",
   "mimetype": "text/x-python",
   "name": "python",
   "nbconvert_exporter": "python",
   "pygments_lexer": "ipython3",
   "version": "3.6.5"
  }
 },
 "nbformat": 4,
 "nbformat_minor": 2
}
